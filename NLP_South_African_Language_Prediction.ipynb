{
  "cells": [
    {
      "cell_type": "markdown",
      "metadata": {
        "id": "view-in-github",
        "colab_type": "text"
      },
      "source": [
        "<a href=\"https://colab.research.google.com/github/f4falalu/EDSA/blob/main/NLP_South_African_Language_Prediction.ipynb\" target=\"_parent\"><img src=\"https://colab.research.google.com/assets/colab-badge.svg\" alt=\"Open In Colab\"/></a>"
      ]
    },
    {
      "cell_type": "markdown",
      "source": [
        "# South African Language Identification Using Natural Language Processing (NLP)\n",
        "\n",
        "## Overview\n",
        "\n",
        "South Africa is a multiracial, multicultural country with a vast spectrum of languages. Language is a critical tool for developing democracy and contributing to the social, cultural, intellectual, economic, and political life of South African society.\n",
        "\n",
        "In this tutorial, we will explore how NLP is used to determine the language a piece of text is written in, we will explore and utilize the nltk library.\n",
        "\n",
        "Data Source: https://www.kaggle.com/competitions/south-african-language-identification/data"
      ],
      "metadata": {
        "id": "X4bIxyxV-mLa"
      }
    },
    {
      "cell_type": "code",
      "execution_count": 4,
      "metadata": {
        "id": "2D6YAdtJEAdy"
      },
      "outputs": [],
      "source": [
        "#Import packages and dependecies\n",
        "\n",
        "import pandas as pd\n",
        "import numpy as np\n",
        "import time, os\n",
        "\n",
        "#Packages for visualization\n",
        "import seaborn as sns\n",
        "import matplotlib.pyplot as plt\n",
        "import matplotlib.style as style\n",
        "\n",
        "#Packages for preprocessing\n",
        "import nltk\n",
        "import re\n",
        "from sklearn.feature_extraction.text import TfidfVectorizer\n",
        "\n",
        "#Packages for trainig models\n",
        "from sklearn.pipeline import Pipeline\n",
        "from sklearn.linear_model import LogisticRegression, SGDClassifier\n",
        "from sklearn.naive_bayes import MultinomialNB, ComplementNB\n",
        "from sklearn.svm import LinearSVC, SVC\n",
        "from sklearn.model_selection import train_test_split\n",
        "\n",
        "from sklearn.model_selection import GridSearchCV, cross_val_score\n",
        "from sklearn.neighbors import KNeighborsClassifier\n",
        "from sklearn.tree import DecisionTreeClassifier\n",
        "from sklearn.ensemble import GradientBoostingClassifier\n",
        "from sklearn.ensemble import RandomForestClassifier\n",
        "\n",
        "from lightgbm import LGBMClassifier\n",
        "\n",
        "\n",
        "from sklearn import metrics\n",
        "from sklearn import tree\n",
        "import xgboost as xgb\n",
        "\n",
        "# Model Evaluation Packages\n",
        "from sklearn.metrics import accuracy_score, precision_score, recall_score\n",
        "from sklearn.metrics import confusion_matrix, classification_report, f1_score\n",
        "from sklearn.metrics import make_scorer\n"
      ]
    },
    {
      "cell_type": "code",
      "source": [
        "#Download additional nltk package\n",
        "nltk.download('stopwords')"
      ],
      "metadata": {
        "colab": {
          "base_uri": "https://localhost:8080/"
        },
        "id": "_ZfbGME0ANYn",
        "outputId": "836d1b5e-77f3-4a59-e0ab-c8618614393d"
      },
      "execution_count": 5,
      "outputs": [
        {
          "output_type": "stream",
          "name": "stdout",
          "text": [
            "[nltk_data] Downloading package stopwords to /root/nltk_data...\n",
            "[nltk_data]   Package stopwords is already up-to-date!\n"
          ]
        },
        {
          "output_type": "execute_result",
          "data": {
            "text/plain": [
              "True"
            ]
          },
          "metadata": {},
          "execution_count": 5
        }
      ]
    },
    {
      "cell_type": "markdown",
      "metadata": {
        "id": "p5G9dekLHI7E"
      },
      "source": [
        "2. Load Dataset"
      ]
    },
    {
      "cell_type": "code",
      "execution_count": 6,
      "metadata": {
        "id": "ocpckB-2HMBG"
      },
      "outputs": [],
      "source": [
        "df_train = pd.read_csv('/content/train_set.csv')\n",
        "df_test = pd.read_csv('/content/test_set.csv')"
      ]
    },
    {
      "cell_type": "code",
      "execution_count": 7,
      "metadata": {
        "colab": {
          "base_uri": "https://localhost:8080/",
          "height": 175
        },
        "id": "CMPy6exHH05M",
        "outputId": "6a50cde3-a02d-4995-af60-d70ee7b9b91d"
      },
      "outputs": [
        {
          "output_type": "execute_result",
          "data": {
            "text/plain": [
              "  lang_id                                               text\n",
              "0     xho  umgaqo-siseko wenza amalungiselelo kumaziko ax...\n",
              "1     xho  i-dha iya kuba nobulumko bokubeka umsebenzi na...\n",
              "2     eng  the province of kwazulu-natal department of tr...\n",
              "3     nso  o netefatša gore o ba file dilo ka moka tše le..."
            ],
            "text/html": [
              "\n",
              "  <div id=\"df-83e3c507-ebf4-483d-9046-eb179255dae4\">\n",
              "    <div class=\"colab-df-container\">\n",
              "      <div>\n",
              "<style scoped>\n",
              "    .dataframe tbody tr th:only-of-type {\n",
              "        vertical-align: middle;\n",
              "    }\n",
              "\n",
              "    .dataframe tbody tr th {\n",
              "        vertical-align: top;\n",
              "    }\n",
              "\n",
              "    .dataframe thead th {\n",
              "        text-align: right;\n",
              "    }\n",
              "</style>\n",
              "<table border=\"1\" class=\"dataframe\">\n",
              "  <thead>\n",
              "    <tr style=\"text-align: right;\">\n",
              "      <th></th>\n",
              "      <th>lang_id</th>\n",
              "      <th>text</th>\n",
              "    </tr>\n",
              "  </thead>\n",
              "  <tbody>\n",
              "    <tr>\n",
              "      <th>0</th>\n",
              "      <td>xho</td>\n",
              "      <td>umgaqo-siseko wenza amalungiselelo kumaziko ax...</td>\n",
              "    </tr>\n",
              "    <tr>\n",
              "      <th>1</th>\n",
              "      <td>xho</td>\n",
              "      <td>i-dha iya kuba nobulumko bokubeka umsebenzi na...</td>\n",
              "    </tr>\n",
              "    <tr>\n",
              "      <th>2</th>\n",
              "      <td>eng</td>\n",
              "      <td>the province of kwazulu-natal department of tr...</td>\n",
              "    </tr>\n",
              "    <tr>\n",
              "      <th>3</th>\n",
              "      <td>nso</td>\n",
              "      <td>o netefatša gore o ba file dilo ka moka tše le...</td>\n",
              "    </tr>\n",
              "  </tbody>\n",
              "</table>\n",
              "</div>\n",
              "      <button class=\"colab-df-convert\" onclick=\"convertToInteractive('df-83e3c507-ebf4-483d-9046-eb179255dae4')\"\n",
              "              title=\"Convert this dataframe to an interactive table.\"\n",
              "              style=\"display:none;\">\n",
              "        \n",
              "  <svg xmlns=\"http://www.w3.org/2000/svg\" height=\"24px\"viewBox=\"0 0 24 24\"\n",
              "       width=\"24px\">\n",
              "    <path d=\"M0 0h24v24H0V0z\" fill=\"none\"/>\n",
              "    <path d=\"M18.56 5.44l.94 2.06.94-2.06 2.06-.94-2.06-.94-.94-2.06-.94 2.06-2.06.94zm-11 1L8.5 8.5l.94-2.06 2.06-.94-2.06-.94L8.5 2.5l-.94 2.06-2.06.94zm10 10l.94 2.06.94-2.06 2.06-.94-2.06-.94-.94-2.06-.94 2.06-2.06.94z\"/><path d=\"M17.41 7.96l-1.37-1.37c-.4-.4-.92-.59-1.43-.59-.52 0-1.04.2-1.43.59L10.3 9.45l-7.72 7.72c-.78.78-.78 2.05 0 2.83L4 21.41c.39.39.9.59 1.41.59.51 0 1.02-.2 1.41-.59l7.78-7.78 2.81-2.81c.8-.78.8-2.07 0-2.86zM5.41 20L4 18.59l7.72-7.72 1.47 1.35L5.41 20z\"/>\n",
              "  </svg>\n",
              "      </button>\n",
              "      \n",
              "  <style>\n",
              "    .colab-df-container {\n",
              "      display:flex;\n",
              "      flex-wrap:wrap;\n",
              "      gap: 12px;\n",
              "    }\n",
              "\n",
              "    .colab-df-convert {\n",
              "      background-color: #E8F0FE;\n",
              "      border: none;\n",
              "      border-radius: 50%;\n",
              "      cursor: pointer;\n",
              "      display: none;\n",
              "      fill: #1967D2;\n",
              "      height: 32px;\n",
              "      padding: 0 0 0 0;\n",
              "      width: 32px;\n",
              "    }\n",
              "\n",
              "    .colab-df-convert:hover {\n",
              "      background-color: #E2EBFA;\n",
              "      box-shadow: 0px 1px 2px rgba(60, 64, 67, 0.3), 0px 1px 3px 1px rgba(60, 64, 67, 0.15);\n",
              "      fill: #174EA6;\n",
              "    }\n",
              "\n",
              "    [theme=dark] .colab-df-convert {\n",
              "      background-color: #3B4455;\n",
              "      fill: #D2E3FC;\n",
              "    }\n",
              "\n",
              "    [theme=dark] .colab-df-convert:hover {\n",
              "      background-color: #434B5C;\n",
              "      box-shadow: 0px 1px 3px 1px rgba(0, 0, 0, 0.15);\n",
              "      filter: drop-shadow(0px 1px 2px rgba(0, 0, 0, 0.3));\n",
              "      fill: #FFFFFF;\n",
              "    }\n",
              "  </style>\n",
              "\n",
              "      <script>\n",
              "        const buttonEl =\n",
              "          document.querySelector('#df-83e3c507-ebf4-483d-9046-eb179255dae4 button.colab-df-convert');\n",
              "        buttonEl.style.display =\n",
              "          google.colab.kernel.accessAllowed ? 'block' : 'none';\n",
              "\n",
              "        async function convertToInteractive(key) {\n",
              "          const element = document.querySelector('#df-83e3c507-ebf4-483d-9046-eb179255dae4');\n",
              "          const dataTable =\n",
              "            await google.colab.kernel.invokeFunction('convertToInteractive',\n",
              "                                                     [key], {});\n",
              "          if (!dataTable) return;\n",
              "\n",
              "          const docLinkHtml = 'Like what you see? Visit the ' +\n",
              "            '<a target=\"_blank\" href=https://colab.research.google.com/notebooks/data_table.ipynb>data table notebook</a>'\n",
              "            + ' to learn more about interactive tables.';\n",
              "          element.innerHTML = '';\n",
              "          dataTable['output_type'] = 'display_data';\n",
              "          await google.colab.output.renderOutput(dataTable, element);\n",
              "          const docLink = document.createElement('div');\n",
              "          docLink.innerHTML = docLinkHtml;\n",
              "          element.appendChild(docLink);\n",
              "        }\n",
              "      </script>\n",
              "    </div>\n",
              "  </div>\n",
              "  "
            ]
          },
          "metadata": {},
          "execution_count": 7
        }
      ],
      "source": [
        "df_train.head(4)"
      ]
    },
    {
      "cell_type": "code",
      "execution_count": 8,
      "metadata": {
        "colab": {
          "base_uri": "https://localhost:8080/",
          "height": 175
        },
        "id": "pxHVtlG5IHAQ",
        "outputId": "58d46802-4caa-4ae9-a802-7b86507b0506"
      },
      "outputs": [
        {
          "output_type": "execute_result",
          "data": {
            "text/plain": [
              "   index                                               text\n",
              "0      1  Mmasepala, fa maemo a a kgethegileng a letlele...\n",
              "1      2  Uzakwaziswa ngokufaneleko nakungafuneka eminye...\n",
              "2      3         Tshivhumbeo tshi fana na ngano dza vhathu.\n",
              "3      4  Kube inja nelikati betingevakala kutsi titsini..."
            ],
            "text/html": [
              "\n",
              "  <div id=\"df-ea62ff26-80d6-44fa-b0c7-7cb29b42eb54\">\n",
              "    <div class=\"colab-df-container\">\n",
              "      <div>\n",
              "<style scoped>\n",
              "    .dataframe tbody tr th:only-of-type {\n",
              "        vertical-align: middle;\n",
              "    }\n",
              "\n",
              "    .dataframe tbody tr th {\n",
              "        vertical-align: top;\n",
              "    }\n",
              "\n",
              "    .dataframe thead th {\n",
              "        text-align: right;\n",
              "    }\n",
              "</style>\n",
              "<table border=\"1\" class=\"dataframe\">\n",
              "  <thead>\n",
              "    <tr style=\"text-align: right;\">\n",
              "      <th></th>\n",
              "      <th>index</th>\n",
              "      <th>text</th>\n",
              "    </tr>\n",
              "  </thead>\n",
              "  <tbody>\n",
              "    <tr>\n",
              "      <th>0</th>\n",
              "      <td>1</td>\n",
              "      <td>Mmasepala, fa maemo a a kgethegileng a letlele...</td>\n",
              "    </tr>\n",
              "    <tr>\n",
              "      <th>1</th>\n",
              "      <td>2</td>\n",
              "      <td>Uzakwaziswa ngokufaneleko nakungafuneka eminye...</td>\n",
              "    </tr>\n",
              "    <tr>\n",
              "      <th>2</th>\n",
              "      <td>3</td>\n",
              "      <td>Tshivhumbeo tshi fana na ngano dza vhathu.</td>\n",
              "    </tr>\n",
              "    <tr>\n",
              "      <th>3</th>\n",
              "      <td>4</td>\n",
              "      <td>Kube inja nelikati betingevakala kutsi titsini...</td>\n",
              "    </tr>\n",
              "  </tbody>\n",
              "</table>\n",
              "</div>\n",
              "      <button class=\"colab-df-convert\" onclick=\"convertToInteractive('df-ea62ff26-80d6-44fa-b0c7-7cb29b42eb54')\"\n",
              "              title=\"Convert this dataframe to an interactive table.\"\n",
              "              style=\"display:none;\">\n",
              "        \n",
              "  <svg xmlns=\"http://www.w3.org/2000/svg\" height=\"24px\"viewBox=\"0 0 24 24\"\n",
              "       width=\"24px\">\n",
              "    <path d=\"M0 0h24v24H0V0z\" fill=\"none\"/>\n",
              "    <path d=\"M18.56 5.44l.94 2.06.94-2.06 2.06-.94-2.06-.94-.94-2.06-.94 2.06-2.06.94zm-11 1L8.5 8.5l.94-2.06 2.06-.94-2.06-.94L8.5 2.5l-.94 2.06-2.06.94zm10 10l.94 2.06.94-2.06 2.06-.94-2.06-.94-.94-2.06-.94 2.06-2.06.94z\"/><path d=\"M17.41 7.96l-1.37-1.37c-.4-.4-.92-.59-1.43-.59-.52 0-1.04.2-1.43.59L10.3 9.45l-7.72 7.72c-.78.78-.78 2.05 0 2.83L4 21.41c.39.39.9.59 1.41.59.51 0 1.02-.2 1.41-.59l7.78-7.78 2.81-2.81c.8-.78.8-2.07 0-2.86zM5.41 20L4 18.59l7.72-7.72 1.47 1.35L5.41 20z\"/>\n",
              "  </svg>\n",
              "      </button>\n",
              "      \n",
              "  <style>\n",
              "    .colab-df-container {\n",
              "      display:flex;\n",
              "      flex-wrap:wrap;\n",
              "      gap: 12px;\n",
              "    }\n",
              "\n",
              "    .colab-df-convert {\n",
              "      background-color: #E8F0FE;\n",
              "      border: none;\n",
              "      border-radius: 50%;\n",
              "      cursor: pointer;\n",
              "      display: none;\n",
              "      fill: #1967D2;\n",
              "      height: 32px;\n",
              "      padding: 0 0 0 0;\n",
              "      width: 32px;\n",
              "    }\n",
              "\n",
              "    .colab-df-convert:hover {\n",
              "      background-color: #E2EBFA;\n",
              "      box-shadow: 0px 1px 2px rgba(60, 64, 67, 0.3), 0px 1px 3px 1px rgba(60, 64, 67, 0.15);\n",
              "      fill: #174EA6;\n",
              "    }\n",
              "\n",
              "    [theme=dark] .colab-df-convert {\n",
              "      background-color: #3B4455;\n",
              "      fill: #D2E3FC;\n",
              "    }\n",
              "\n",
              "    [theme=dark] .colab-df-convert:hover {\n",
              "      background-color: #434B5C;\n",
              "      box-shadow: 0px 1px 3px 1px rgba(0, 0, 0, 0.15);\n",
              "      filter: drop-shadow(0px 1px 2px rgba(0, 0, 0, 0.3));\n",
              "      fill: #FFFFFF;\n",
              "    }\n",
              "  </style>\n",
              "\n",
              "      <script>\n",
              "        const buttonEl =\n",
              "          document.querySelector('#df-ea62ff26-80d6-44fa-b0c7-7cb29b42eb54 button.colab-df-convert');\n",
              "        buttonEl.style.display =\n",
              "          google.colab.kernel.accessAllowed ? 'block' : 'none';\n",
              "\n",
              "        async function convertToInteractive(key) {\n",
              "          const element = document.querySelector('#df-ea62ff26-80d6-44fa-b0c7-7cb29b42eb54');\n",
              "          const dataTable =\n",
              "            await google.colab.kernel.invokeFunction('convertToInteractive',\n",
              "                                                     [key], {});\n",
              "          if (!dataTable) return;\n",
              "\n",
              "          const docLinkHtml = 'Like what you see? Visit the ' +\n",
              "            '<a target=\"_blank\" href=https://colab.research.google.com/notebooks/data_table.ipynb>data table notebook</a>'\n",
              "            + ' to learn more about interactive tables.';\n",
              "          element.innerHTML = '';\n",
              "          dataTable['output_type'] = 'display_data';\n",
              "          await google.colab.output.renderOutput(dataTable, element);\n",
              "          const docLink = document.createElement('div');\n",
              "          docLink.innerHTML = docLinkHtml;\n",
              "          element.appendChild(docLink);\n",
              "        }\n",
              "      </script>\n",
              "    </div>\n",
              "  </div>\n",
              "  "
            ]
          },
          "metadata": {},
          "execution_count": 8
        }
      ],
      "source": [
        "df_test.head(4)"
      ]
    },
    {
      "cell_type": "markdown",
      "metadata": {
        "id": "m2SNmAnNISxL"
      },
      "source": [
        "3. EDA"
      ]
    },
    {
      "cell_type": "markdown",
      "source": [
        "Quick overview of the dataset"
      ],
      "metadata": {
        "id": "DjLc3QDKAcnB"
      }
    },
    {
      "cell_type": "code",
      "execution_count": 9,
      "metadata": {
        "colab": {
          "base_uri": "https://localhost:8080/"
        },
        "id": "RL17bH8WIUhJ",
        "outputId": "8bbf0439-20d6-4591-d503-75c8c6e75eaf"
      },
      "outputs": [
        {
          "output_type": "stream",
          "name": "stdout",
          "text": [
            "<class 'pandas.core.frame.DataFrame'>\n",
            "RangeIndex: 33000 entries, 0 to 32999\n",
            "Data columns (total 2 columns):\n",
            " #   Column   Non-Null Count  Dtype \n",
            "---  ------   --------------  ----- \n",
            " 0   lang_id  33000 non-null  object\n",
            " 1   text     33000 non-null  object\n",
            "dtypes: object(2)\n",
            "memory usage: 515.8+ KB\n"
          ]
        }
      ],
      "source": [
        "#info into language id\n",
        "df_train.info()\n"
      ]
    },
    {
      "cell_type": "code",
      "execution_count": 10,
      "metadata": {
        "colab": {
          "base_uri": "https://localhost:8080/"
        },
        "id": "jAQ4yg7vIzlw",
        "outputId": "a519ae47-9408-4d4d-bca0-1aa653c2bdbd"
      },
      "outputs": [
        {
          "output_type": "stream",
          "name": "stdout",
          "text": [
            "shape of train dataset (33000, 2)\n"
          ]
        },
        {
          "output_type": "execute_result",
          "data": {
            "text/plain": [
              "xho    3000\n",
              "eng    3000\n",
              "nso    3000\n",
              "ven    3000\n",
              "tsn    3000\n",
              "nbl    3000\n",
              "zul    3000\n",
              "ssw    3000\n",
              "tso    3000\n",
              "sot    3000\n",
              "afr    3000\n",
              "Name: lang_id, dtype: int64"
            ]
          },
          "metadata": {},
          "execution_count": 10
        }
      ],
      "source": [
        "print('shape of train dataset', df_train.shape)\n",
        "df_train.lang_id.value_counts()\n"
      ]
    },
    {
      "cell_type": "code",
      "execution_count": 11,
      "metadata": {
        "colab": {
          "base_uri": "https://localhost:8080/",
          "height": 335
        },
        "id": "E5vVr6p1JZj7",
        "outputId": "5e86699f-3033-43cf-d66e-e6b60c021821"
      },
      "outputs": [
        {
          "output_type": "stream",
          "name": "stderr",
          "text": [
            "/usr/local/lib/python3.7/dist-packages/seaborn/_decorators.py:43: FutureWarning: Pass the following variable as a keyword arg: x. From version 0.12, the only valid positional argument will be `data`, and passing other arguments without an explicit keyword will result in an error or misinterpretation.\n",
            "  FutureWarning\n"
          ]
        },
        {
          "output_type": "display_data",
          "data": {
            "text/plain": [
              "<Figure size 432x288 with 1 Axes>"
            ],
            "image/png": "[encoded data removed]"
          },
          "metadata": {
            "needs_background": "light"
          }
        }
      ],
      "source": [
        "#plotting sentiment graph\n",
        "\n",
        "sns.countplot(df_train.lang_id,)\n",
        "plt.xlabel('Language ID')\n",
        "plt.ylabel('Number of Text')\n",
        "plt.show()"
      ]
    },
    {
      "cell_type": "markdown",
      "metadata": {
        "id": "XghU_6KVJ00J"
      },
      "source": [
        "Data Preprocessing"
      ]
    },
    {
      "cell_type": "markdown",
      "source": [
        "Involves cleaning and transforming the dataset, removing stopwords and preparing the dataset for preprocessing."
      ],
      "metadata": {
        "id": "2Xr2WTxeAnp6"
      }
    },
    {
      "cell_type": "code",
      "execution_count": 12,
      "metadata": {
        "id": "-Gn1oqC3J0dr"
      },
      "outputs": [],
      "source": [
        "stopword=nltk.corpus.stopwords.words('english')\n",
        "stopword.remove('not')\n",
        "\n",
        "def processed_text(text):\n",
        "  #Removing special characters\n",
        "  text=re.sub(r'@[\\w]*','',text)\n",
        "  #Removing urls from text\n",
        "  text=re.sub(r'http/S+','',text)\n",
        "  #Removing Punctuations, Numbers, and Special Characters\n",
        "  text=re.sub(r'[^A-Za-z#]',' ',text)   \n",
        "  #Removing stopword\n",
        "  \n",
        "  #text=\" \".join(i.lower() for i in text.split() if i.lower() not in stopword) \n",
        "   \n",
        "  text = text.lower()\n",
        "    # will split and join the words\n",
        "  text=' '.join(text.split())\n",
        "  return text\n",
        "   \n",
        "    \n",
        "    \n",
        "    "
      ]
    },
    {
      "cell_type": "code",
      "execution_count": 13,
      "metadata": {
        "id": "IRcSXy5rPIll"
      },
      "outputs": [],
      "source": [
        "# Application of the function to clean the text\n",
        "df_train['text'] = df_train['text'].apply(processed_text)\n",
        "df_test['text'] = df_test['text'].apply(processed_text)"
      ]
    },
    {
      "cell_type": "code",
      "execution_count": 14,
      "metadata": {
        "colab": {
          "base_uri": "https://localhost:8080/"
        },
        "id": "7bM80A8nPbEU",
        "outputId": "47ecf4ff-a7d5-4ee5-8959-6869814950f2"
      },
      "outputs": [
        {
          "output_type": "stream",
          "name": "stderr",
          "text": [
            "/usr/local/lib/python3.7/dist-packages/ipykernel_launcher.py:2: FutureWarning: The default value of regex will change from True to False in a future version.\n",
            "  \n",
            "/usr/local/lib/python3.7/dist-packages/ipykernel_launcher.py:3: FutureWarning: The default value of regex will change from True to False in a future version.\n",
            "  This is separate from the ipykernel package so we can avoid doing imports until\n"
          ]
        }
      ],
      "source": [
        "# Replace '.txt' with 'text file'\n",
        "df_train[\"text\"] = df_train[\"text\"].str.replace(\".txt\", \" text file\")\n",
        "df_test[\"text\"] = df_test[\"text\"].str.replace(\".txt\", \" text file\")"
      ]
    },
    {
      "cell_type": "markdown",
      "metadata": {
        "id": "zeDVlkV4P7ZZ"
      },
      "source": [
        "Feature Engineering"
      ]
    },
    {
      "cell_type": "markdown",
      "metadata": {
        "id": "xV7FrKvsP0li"
      },
      "source": [
        "Data Splitting"
      ]
    },
    {
      "cell_type": "code",
      "execution_count": 15,
      "metadata": {
        "id": "RcS6yFTZQAms"
      },
      "outputs": [],
      "source": [
        "X = df_train['text']\n",
        "y = df_train['lang_id']"
      ]
    },
    {
      "cell_type": "markdown",
      "metadata": {
        "id": "Ueufq82RQV-9"
      },
      "source": [
        "Splitting of Training and Validation Sets"
      ]
    },
    {
      "cell_type": "code",
      "execution_count": 16,
      "metadata": {
        "id": "pPN37h-1QVKR"
      },
      "outputs": [],
      "source": [
        "X_train, X_test, y_train, y_test = train_test_split(X, y, test_size=0.25, random_state=45)"
      ]
    },
    {
      "cell_type": "markdown",
      "metadata": {
        "id": "YStgFxlKQljL"
      },
      "source": [
        "Model Building"
      ]
    },
    {
      "cell_type": "markdown",
      "source": [
        "Build pipeline for classifier models"
      ],
      "metadata": {
        "id": "ZqTnrTDiBtnv"
      }
    },
    {
      "cell_type": "code",
      "source": [
        "#Setting up classifier for model building\n",
        "\n",
        "classifiers = [\n",
        "    LogisticRegression(),\n",
        "    KNeighborsClassifier(3),\n",
        "    SVC(kernel=\"linear\", C=0.025),\n",
        "    SVC(gamma=2, C=1),\n",
        "    DecisionTreeClassifier(max_depth=5),\n",
        "    RandomForestClassifier(max_depth=5, n_estimators=10, max_features=1),\n",
        "    MultinomialNB(),\n",
        "    LGBMClassifier()\n",
        "]"
      ],
      "metadata": {
        "id": "eXuUlLqzoRPu"
      },
      "execution_count": 17,
      "outputs": []
    },
    {
      "cell_type": "code",
      "source": [
        "#creating pipeline for modeling building\n",
        "\n",
        "def models_building(classifiers, X_train, y_train, X_val, y_val):\n",
        "    \n",
        "    models_summary = {}\n",
        "\n",
        "    # Pipeline to balance the classses and then to build the model\n",
        "    for clf in classifiers:\n",
        "        clf_text = Pipeline([('tfidf', TfidfVectorizer(min_df=1,\n",
        "                                                       max_df=0.9,\n",
        "                                                       ngram_range=(1, 2))),\n",
        "                             ('clf', clf)])\n",
        "\n",
        "        # Logging the Execution Time for each model\n",
        "        start_time = time.time()\n",
        "        clf_text.fit(X_train, y_train)\n",
        "        predictions = clf_text.predict(X_val)\n",
        "        run_time = time.time()-start_time\n",
        "\n",
        "        # Output for each model\n",
        "        models_summary[clf.__class__.__name__] = {\n",
        "            'F1-Macro': metrics.f1_score(y_val,\n",
        "                                         predictions,\n",
        "                                         average='macro'),\n",
        "            'F1-Accuracy': metrics.f1_score(y_val, predictions,\n",
        "                                            average='micro'),\n",
        "            'F1-Weighted': metrics.f1_score(y_val,\n",
        "                                            predictions,\n",
        "                                            average='weighted'),\n",
        "            'Execution Time': run_time}\n",
        "\n",
        "    return pd.DataFrame.from_dict(models_summary, orient='index')"
      ],
      "metadata": {
        "id": "V7IUFMI8B7PU"
      },
      "execution_count": 18,
      "outputs": []
    },
    {
      "cell_type": "code",
      "execution_count": 19,
      "metadata": {
        "colab": {
          "base_uri": "https://localhost:8080/",
          "height": 412
        },
        "id": "ulVQReQMthM4",
        "outputId": "fb1b7a4d-8d9d-4946-ab5c-9b4c6d33f98e"
      },
      "outputs": [
        {
          "output_type": "stream",
          "name": "stderr",
          "text": [
            "/usr/local/lib/python3.7/dist-packages/sklearn/linear_model/_logistic.py:818: ConvergenceWarning: lbfgs failed to converge (status=1):\n",
            "STOP: TOTAL NO. of ITERATIONS REACHED LIMIT.\n",
            "\n",
            "Increase the number of iterations (max_iter) or scale the data as shown in:\n",
            "    https://scikit-learn.org/stable/modules/preprocessing.html\n",
            "Please also refer to the documentation for alternative solver options:\n",
            "    https://scikit-learn.org/stable/modules/linear_model.html#logistic-regression\n",
            "  extra_warning_msg=_LOGISTIC_SOLVER_CONVERGENCE_MSG,\n"
          ]
        },
        {
          "output_type": "execute_result",
          "data": {
            "text/plain": [
              "                        F1-Macro  F1-Accuracy  F1-Weighted  Execution Time\n",
              "MultinomialNB           0.997945     0.997939     0.997937        6.493015\n",
              "LogisticRegression      0.993817     0.993818     0.993811      158.471617\n",
              "SVC                     0.992277     0.992242     0.992274      617.065975\n",
              "LGBMClassifier          0.979326     0.979394     0.979349      120.979508\n",
              "KNeighborsClassifier    0.956425     0.956848     0.956581       10.676832\n",
              "DecisionTreeClassifier  0.516687     0.566303     0.516822        9.032937\n",
              "RandomForestClassifier  0.024939     0.094061     0.024640        6.509215"
            ],
            "text/html": [
              "\n",
              "  <div id=\"df-d3bcc5d7-736d-4736-afe4-df5c637239b4\">\n",
              "    <div class=\"colab-df-container\">\n",
              "      <div>\n",
              "<style scoped>\n",
              "    .dataframe tbody tr th:only-of-type {\n",
              "        vertical-align: middle;\n",
              "    }\n",
              "\n",
              "    .dataframe tbody tr th {\n",
              "        vertical-align: top;\n",
              "    }\n",
              "\n",
              "    .dataframe thead th {\n",
              "        text-align: right;\n",
              "    }\n",
              "</style>\n",
              "<table border=\"1\" class=\"dataframe\">\n",
              "  <thead>\n",
              "    <tr style=\"text-align: right;\">\n",
              "      <th></th>\n",
              "      <th>F1-Macro</th>\n",
              "      <th>F1-Accuracy</th>\n",
              "      <th>F1-Weighted</th>\n",
              "      <th>Execution Time</th>\n",
              "    </tr>\n",
              "  </thead>\n",
              "  <tbody>\n",
              "    <tr>\n",
              "      <th>MultinomialNB</th>\n",
              "      <td>0.997945</td>\n",
              "      <td>0.997939</td>\n",
              "      <td>0.997937</td>\n",
              "      <td>6.493015</td>\n",
              "    </tr>\n",
              "    <tr>\n",
              "      <th>LogisticRegression</th>\n",
              "      <td>0.993817</td>\n",
              "      <td>0.993818</td>\n",
              "      <td>0.993811</td>\n",
              "      <td>158.471617</td>\n",
              "    </tr>\n",
              "    <tr>\n",
              "      <th>SVC</th>\n",
              "      <td>0.992277</td>\n",
              "      <td>0.992242</td>\n",
              "      <td>0.992274</td>\n",
              "      <td>617.065975</td>\n",
              "    </tr>\n",
              "    <tr>\n",
              "      <th>LGBMClassifier</th>\n",
              "      <td>0.979326</td>\n",
              "      <td>0.979394</td>\n",
              "      <td>0.979349</td>\n",
              "      <td>120.979508</td>\n",
              "    </tr>\n",
              "    <tr>\n",
              "      <th>KNeighborsClassifier</th>\n",
              "      <td>0.956425</td>\n",
              "      <td>0.956848</td>\n",
              "      <td>0.956581</td>\n",
              "      <td>10.676832</td>\n",
              "    </tr>\n",
              "    <tr>\n",
              "      <th>DecisionTreeClassifier</th>\n",
              "      <td>0.516687</td>\n",
              "      <td>0.566303</td>\n",
              "      <td>0.516822</td>\n",
              "      <td>9.032937</td>\n",
              "    </tr>\n",
              "    <tr>\n",
              "      <th>RandomForestClassifier</th>\n",
              "      <td>0.024939</td>\n",
              "      <td>0.094061</td>\n",
              "      <td>0.024640</td>\n",
              "      <td>6.509215</td>\n",
              "    </tr>\n",
              "  </tbody>\n",
              "</table>\n",
              "</div>\n",
              "      <button class=\"colab-df-convert\" onclick=\"convertToInteractive('df-d3bcc5d7-736d-4736-afe4-df5c637239b4')\"\n",
              "              title=\"Convert this dataframe to an interactive table.\"\n",
              "              style=\"display:none;\">\n",
              "        \n",
              "  <svg xmlns=\"http://www.w3.org/2000/svg\" height=\"24px\"viewBox=\"0 0 24 24\"\n",
              "       width=\"24px\">\n",
              "    <path d=\"M0 0h24v24H0V0z\" fill=\"none\"/>\n",
              "    <path d=\"M18.56 5.44l.94 2.06.94-2.06 2.06-.94-2.06-.94-.94-2.06-.94 2.06-2.06.94zm-11 1L8.5 8.5l.94-2.06 2.06-.94-2.06-.94L8.5 2.5l-.94 2.06-2.06.94zm10 10l.94 2.06.94-2.06 2.06-.94-2.06-.94-.94-2.06-.94 2.06-2.06.94z\"/><path d=\"M17.41 7.96l-1.37-1.37c-.4-.4-.92-.59-1.43-.59-.52 0-1.04.2-1.43.59L10.3 9.45l-7.72 7.72c-.78.78-.78 2.05 0 2.83L4 21.41c.39.39.9.59 1.41.59.51 0 1.02-.2 1.41-.59l7.78-7.78 2.81-2.81c.8-.78.8-2.07 0-2.86zM5.41 20L4 18.59l7.72-7.72 1.47 1.35L5.41 20z\"/>\n",
              "  </svg>\n",
              "      </button>\n",
              "      \n",
              "  <style>\n",
              "    .colab-df-container {\n",
              "      display:flex;\n",
              "      flex-wrap:wrap;\n",
              "      gap: 12px;\n",
              "    }\n",
              "\n",
              "    .colab-df-convert {\n",
              "      background-color: #E8F0FE;\n",
              "      border: none;\n",
              "      border-radius: 50%;\n",
              "      cursor: pointer;\n",
              "      display: none;\n",
              "      fill: #1967D2;\n",
              "      height: 32px;\n",
              "      padding: 0 0 0 0;\n",
              "      width: 32px;\n",
              "    }\n",
              "\n",
              "    .colab-df-convert:hover {\n",
              "      background-color: #E2EBFA;\n",
              "      box-shadow: 0px 1px 2px rgba(60, 64, 67, 0.3), 0px 1px 3px 1px rgba(60, 64, 67, 0.15);\n",
              "      fill: #174EA6;\n",
              "    }\n",
              "\n",
              "    [theme=dark] .colab-df-convert {\n",
              "      background-color: #3B4455;\n",
              "      fill: #D2E3FC;\n",
              "    }\n",
              "\n",
              "    [theme=dark] .colab-df-convert:hover {\n",
              "      background-color: #434B5C;\n",
              "      box-shadow: 0px 1px 3px 1px rgba(0, 0, 0, 0.15);\n",
              "      filter: drop-shadow(0px 1px 2px rgba(0, 0, 0, 0.3));\n",
              "      fill: #FFFFFF;\n",
              "    }\n",
              "  </style>\n",
              "\n",
              "      <script>\n",
              "        const buttonEl =\n",
              "          document.querySelector('#df-d3bcc5d7-736d-4736-afe4-df5c637239b4 button.colab-df-convert');\n",
              "        buttonEl.style.display =\n",
              "          google.colab.kernel.accessAllowed ? 'block' : 'none';\n",
              "\n",
              "        async function convertToInteractive(key) {\n",
              "          const element = document.querySelector('#df-d3bcc5d7-736d-4736-afe4-df5c637239b4');\n",
              "          const dataTable =\n",
              "            await google.colab.kernel.invokeFunction('convertToInteractive',\n",
              "                                                     [key], {});\n",
              "          if (!dataTable) return;\n",
              "\n",
              "          const docLinkHtml = 'Like what you see? Visit the ' +\n",
              "            '<a target=\"_blank\" href=https://colab.research.google.com/notebooks/data_table.ipynb>data table notebook</a>'\n",
              "            + ' to learn more about interactive tables.';\n",
              "          element.innerHTML = '';\n",
              "          dataTable['output_type'] = 'display_data';\n",
              "          await google.colab.output.renderOutput(dataTable, element);\n",
              "          const docLink = document.createElement('div');\n",
              "          docLink.innerHTML = docLinkHtml;\n",
              "          element.appendChild(docLink);\n",
              "        }\n",
              "      </script>\n",
              "    </div>\n",
              "  </div>\n",
              "  "
            ]
          },
          "metadata": {},
          "execution_count": 19
        }
      ],
      "source": [
        "classifiers_df = models_building(classifiers, X_train, y_train, X_test, y_test)\n",
        "ordered_df = classifiers_df.sort_values('F1-Macro', ascending=False)\n",
        "ordered_df"
      ]
    },
    {
      "cell_type": "code",
      "source": [
        "\n",
        "fig, ax = plt.subplots(1, 2, figsize=(10, 5))\n",
        "ordered_df.sort_values('F1-Macro', ascending=False, inplace=True)\n",
        "ordered_df.plot(y=['F1-Macro'], kind='bar', ax=ax[0], xlim=[0,1.1], ylim=[0.85,0.92])\n",
        "ordered_df.plot(y='Execution Time', kind='bar', ax=ax[1])"
      ],
      "metadata": {
        "colab": {
          "base_uri": "https://localhost:8080/",
          "height": 449
        },
        "id": "qrI566QGxtLy",
        "outputId": "9249aefb-037c-4a69-8a8b-c8de542ad098"
      },
      "execution_count": 20,
      "outputs": [
        {
          "output_type": "execute_result",
          "data": {
            "text/plain": [
              "<matplotlib.axes._subplots.AxesSubplot at 0x7f6eee5325d0>"
            ]
          },
          "metadata": {},
          "execution_count": 20
        },
        {
          "output_type": "display_data",
          "data": {
            "text/plain": [
              "<Figure size 720x360 with 2 Axes>"
            ],
            "image/png": "[encoded data removed]"
          },
          "metadata": {
            "needs_background": "light"
          }
        }
      ]
    },
    {
      "cell_type": "markdown",
      "source": [
        "Hyperparameter Tuning on Most Performing Models"
      ],
      "metadata": {
        "id": "12SqGwjADtPG"
      }
    },
    {
      "cell_type": "code",
      "execution_count": 25,
      "metadata": {
        "id": "IKH0ao2v-m3S"
      },
      "outputs": [],
      "source": [
        "# Refining the train-test split for validation\n",
        "X_train, X_test, y_train, y_test = train_test_split(X, y, test_size=0.25)"
      ]
    },
    {
      "cell_type": "markdown",
      "source": [
        "Multinomial Naive Bayes (MNB)"
      ],
      "metadata": {
        "id": "zI2bLZ-gD1ld"
      }
    },
    {
      "cell_type": "code",
      "source": [
        "# Creating a pipeline for the gridsearch\n",
        "param_grid = {'alpha': [0.1, 1, 5, 10]}  # setting parameter grid\n",
        "\n",
        "#Applying TF-IDF Vectorizer\n",
        "\n",
        "tuned_mnb = Pipeline([('tfidf', TfidfVectorizer(min_df=2,\n",
        "                                                max_df=0.9,\n",
        "                                                ngram_range=(1, 2))),\n",
        "                   ('mnb', GridSearchCV(MultinomialNB(),\n",
        "                                           param_grid=param_grid,\n",
        "                                           cv=5,\n",
        "                                           n_jobs=-1,\n",
        "                                           scoring='f1_macro'))\n",
        "])\n",
        "# Fitting the model\n",
        "tuned_mnb.fit(X_train, y_train)\n",
        "\n",
        "# predicting the fit on validation set\n",
        "mnb_predicted = tuned_mnb.predict(X_test)  \n",
        "\n",
        "print(classification_report(y_test, mnb_predicted))"
      ],
      "metadata": {
        "colab": {
          "base_uri": "https://localhost:8080/"
        },
        "id": "h0UjpMBU9pCf",
        "outputId": "19b27843-bf2a-4953-d759-7392bd21279c"
      },
      "execution_count": 26,
      "outputs": [
        {
          "output_type": "stream",
          "name": "stdout",
          "text": [
            "              precision    recall  f1-score   support\n",
            "\n",
            "         afr       1.00      1.00      1.00       778\n",
            "         eng       1.00      1.00      1.00       749\n",
            "         nbl       1.00      0.99      1.00       756\n",
            "         nso       1.00      1.00      1.00       785\n",
            "         sot       1.00      1.00      1.00       712\n",
            "         ssw       1.00      1.00      1.00       735\n",
            "         tsn       1.00      1.00      1.00       743\n",
            "         tso       1.00      1.00      1.00       736\n",
            "         ven       1.00      1.00      1.00       780\n",
            "         xho       1.00      1.00      1.00       734\n",
            "         zul       0.99      1.00      1.00       742\n",
            "\n",
            "    accuracy                           1.00      8250\n",
            "   macro avg       1.00      1.00      1.00      8250\n",
            "weighted avg       1.00      1.00      1.00      8250\n",
            "\n"
          ]
        }
      ]
    },
    {
      "cell_type": "code",
      "source": [
        "#Model evaluation for Logistic Regression\n",
        "mnb_acc = (metrics.accuracy_score(y_test, mnb_predicted))*100\n",
        "print('The Multinomial Naive Bayes regression has:',mnb_acc,'% accuracy')"
      ],
      "metadata": {
        "colab": {
          "base_uri": "https://localhost:8080/"
        },
        "id": "cG6NCErr_9Eb",
        "outputId": "b3b51776-2281-48c8-9440-fde70eb92b73"
      },
      "execution_count": 27,
      "outputs": [
        {
          "output_type": "stream",
          "name": "stdout",
          "text": [
            "The Multinomial Naive Bayes regression has: 99.87878787878788 % accuracy\n"
          ]
        }
      ]
    },
    {
      "cell_type": "markdown",
      "source": [
        "Creating File for Kaggle Submission (OPTIONAL)"
      ],
      "metadata": {
        "id": "_P6EE9hxEB_g"
      }
    },
    {
      "cell_type": "code",
      "source": [
        "submission_df = pd.DataFrame(df_test['index'])\n",
        "submission_df['lang_id'] = tuned_mnb.predict(df_test['text'])\n",
        "submission_df.to_csv('sub_SA_Lang_Predict2.csv', index=False)"
      ],
      "metadata": {
        "id": "FcWyrtNkEFFE"
      },
      "execution_count": 24,
      "outputs": []
    }
  ],
  "metadata": {
    "colab": {
      "collapsed_sections": [],
      "name": "NLP - South African_Language_Prediction.ipynb",
      "provenance": [],
      "include_colab_link": true
    },
    "kernelspec": {
      "display_name": "Python 3",
      "name": "python3"
    },
    "language_info": {
      "name": "python"
    }
  },
  "nbformat": 4,
  "nbformat_minor": 0
}