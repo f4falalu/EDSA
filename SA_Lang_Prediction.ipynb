{
  "cells": [
    {
      "cell_type": "markdown",
      "source": [
        "**EXPLORE Data Science Academy Classification Hackathon**\n",
        "\n",
        "**Overview**\n",
        "\n",
        "South Africa is a multicultural society that is characterised by its rich linguistic diversity. Language is an indispensable tool that can be used to deepen democracy and also contribute to the social, cultural, intellectual, economic and political life of the South African society.\n",
        "\n",
        "\n",
        "\n",
        "\n",
        "\n",
        "The country is multilingual with 11 official languages, each of which is guaranteed equal status. Most South Africans are multilingual and able to speak at least two or more of the official languages.\n",
        "From South African Government"
      ],
      "metadata": {
        "id": "B9mqCWhuO859"
      }
    },
    {
      "cell_type": "code",
      "execution_count": null,
      "metadata": {
        "colab": {
          "background_save": true
        },
        "id": "2D6YAdtJEAdy"
      },
      "outputs": [],
      "source": [
        "#Import packages and dependecies\n",
        "\n",
        "import pandas as pd\n",
        "import numpy as np\n",
        "import time, os\n",
        "\n",
        "#Packages for visualization\n",
        "import seaborn as sns\n",
        "import matplotlib.pyplot as plt\n",
        "import matplotlib.style as style\n",
        "\n",
        "#Packages for preprocessing\n",
        "import nltk\n",
        "import re\n",
        "from textblob import TextBlob\n",
        "from sklearn.feature_extraction.text import TfidfVectorizer\n",
        "\n",
        "#Packages for trainig models\n",
        "from sklearn.pipeline import Pipeline\n",
        "from sklearn.linear_model import LogisticRegression, SGDClassifier\n",
        "from sklearn.naive_bayes import MultinomialNB, ComplementNB\n",
        "from sklearn.svm import LinearSVC, SVC\n",
        "from sklearn.model_selection import train_test_split\n",
        "from sklearn.model_selection import GridSearchCV, KFold, cross_val_score\n",
        "from sklearn.model_selection import RepeatedStratifiedKFold\n",
        "from sklearn.neighbors import KNeighborsClassifier\n",
        "from sklearn.tree import DecisionTreeClassifier\n",
        "from sklearn.ensemble import GradientBoostingClassifier\n",
        "from sklearn.ensemble import RandomForestClassifier\n",
        "from sklearn.neural_network import MLPClassifier\n",
        "from sklearn import metrics\n",
        "from sklearn import tree\n",
        "import xgboost as xgb\n",
        "\n",
        "# Model Evaluation Packages\n",
        "from sklearn.metrics import accuracy_score, precision_score, recall_score\n",
        "from sklearn.metrics import confusion_matrix, classification_report, f1_score\n",
        "from sklearn.metrics import make_scorer\n",
        "\n",
        "import matplotlib.pyplot as plt\n",
        "%matplotlib inline"
      ]
    },
    {
      "cell_type": "code",
      "execution_count": null,
      "metadata": {
        "colab": {
          "background_save": true
        },
        "id": "QWcM6UkPHEgy",
        "outputId": "6bf7967d-c069-44a4-8f1d-43fea14c1355"
      },
      "outputs": [
        {
          "name": "stdout",
          "output_type": "stream",
          "text": [
            "[nltk_data] Downloading package vader_lexicon to /root/nltk_data...\n",
            "[nltk_data]   Package vader_lexicon is already up-to-date!\n"
          ]
        },
        {
          "data": {
            "text/plain": [
              "True"
            ]
          },
          "execution_count": null,
          "metadata": {},
          "output_type": "execute_result"
        }
      ],
      "source": [
        "nltk.download('vader_lexicon')\n"
      ]
    },
    {
      "cell_type": "markdown",
      "metadata": {
        "id": "p5G9dekLHI7E"
      },
      "source": [
        "2. Load Dataset"
      ]
    },
    {
      "cell_type": "code",
      "execution_count": null,
      "metadata": {
        "colab": {
          "background_save": true
        },
        "id": "ocpckB-2HMBG"
      },
      "outputs": [],
      "source": [
        "df_train = pd.read_csv('/content/train_set.csv')\n",
        "df_test = pd.read_csv('/content/test_set.csv')"
      ]
    },
    {
      "cell_type": "code",
      "execution_count": null,
      "metadata": {
        "colab": {
          "background_save": true
        },
        "id": "CMPy6exHH05M",
        "outputId": "33c40897-4e62-47c3-a88e-1eec9b2a2217"
      },
      "outputs": [
        {
          "data": {
            "text/html": [
              "<div>\n",
              "<style scoped>\n",
              "    .dataframe tbody tr th:only-of-type {\n",
              "        vertical-align: middle;\n",
              "    }\n",
              "\n",
              "    .dataframe tbody tr th {\n",
              "        vertical-align: top;\n",
              "    }\n",
              "\n",
              "    .dataframe thead th {\n",
              "        text-align: right;\n",
              "    }\n",
              "</style>\n",
              "<table border=\"1\" class=\"dataframe\">\n",
              "  <thead>\n",
              "    <tr style=\"text-align: right;\">\n",
              "      <th></th>\n",
              "      <th>lang_id</th>\n",
              "      <th>text</th>\n",
              "    </tr>\n",
              "  </thead>\n",
              "  <tbody>\n",
              "    <tr>\n",
              "      <th>0</th>\n",
              "      <td>xho</td>\n",
              "      <td>umgaqo-siseko wenza amalungiselelo kumaziko ax...</td>\n",
              "    </tr>\n",
              "    <tr>\n",
              "      <th>1</th>\n",
              "      <td>xho</td>\n",
              "      <td>i-dha iya kuba nobulumko bokubeka umsebenzi na...</td>\n",
              "    </tr>\n",
              "    <tr>\n",
              "      <th>2</th>\n",
              "      <td>eng</td>\n",
              "      <td>the province of kwazulu-natal department of tr...</td>\n",
              "    </tr>\n",
              "    <tr>\n",
              "      <th>3</th>\n",
              "      <td>nso</td>\n",
              "      <td>o netefatša gore o ba file dilo ka moka tše le...</td>\n",
              "    </tr>\n",
              "  </tbody>\n",
              "</table>\n",
              "</div>"
            ],
            "text/plain": [
              "  lang_id                                               text\n",
              "0     xho  umgaqo-siseko wenza amalungiselelo kumaziko ax...\n",
              "1     xho  i-dha iya kuba nobulumko bokubeka umsebenzi na...\n",
              "2     eng  the province of kwazulu-natal department of tr...\n",
              "3     nso  o netefatša gore o ba file dilo ka moka tše le..."
            ]
          },
          "execution_count": null,
          "metadata": {},
          "output_type": "execute_result"
        }
      ],
      "source": [
        "df_train.head(4)"
      ]
    },
    {
      "cell_type": "code",
      "execution_count": null,
      "metadata": {
        "colab": {
          "background_save": true
        },
        "id": "pxHVtlG5IHAQ",
        "outputId": "30538afe-8d78-4749-96c6-7fb1e175dd14"
      },
      "outputs": [
        {
          "data": {
            "text/html": [
              "<div>\n",
              "<style scoped>\n",
              "    .dataframe tbody tr th:only-of-type {\n",
              "        vertical-align: middle;\n",
              "    }\n",
              "\n",
              "    .dataframe tbody tr th {\n",
              "        vertical-align: top;\n",
              "    }\n",
              "\n",
              "    .dataframe thead th {\n",
              "        text-align: right;\n",
              "    }\n",
              "</style>\n",
              "<table border=\"1\" class=\"dataframe\">\n",
              "  <thead>\n",
              "    <tr style=\"text-align: right;\">\n",
              "      <th></th>\n",
              "      <th>index</th>\n",
              "      <th>text</th>\n",
              "    </tr>\n",
              "  </thead>\n",
              "  <tbody>\n",
              "    <tr>\n",
              "      <th>0</th>\n",
              "      <td>1</td>\n",
              "      <td>Mmasepala, fa maemo a a kgethegileng a letlele...</td>\n",
              "    </tr>\n",
              "    <tr>\n",
              "      <th>1</th>\n",
              "      <td>2</td>\n",
              "      <td>Uzakwaziswa ngokufaneleko nakungafuneka eminye...</td>\n",
              "    </tr>\n",
              "    <tr>\n",
              "      <th>2</th>\n",
              "      <td>3</td>\n",
              "      <td>Tshivhumbeo tshi fana na ngano dza vhathu.</td>\n",
              "    </tr>\n",
              "    <tr>\n",
              "      <th>3</th>\n",
              "      <td>4</td>\n",
              "      <td>Kube inja nelikati betingevakala kutsi titsini...</td>\n",
              "    </tr>\n",
              "  </tbody>\n",
              "</table>\n",
              "</div>"
            ],
            "text/plain": [
              "   index                                               text\n",
              "0      1  Mmasepala, fa maemo a a kgethegileng a letlele...\n",
              "1      2  Uzakwaziswa ngokufaneleko nakungafuneka eminye...\n",
              "2      3         Tshivhumbeo tshi fana na ngano dza vhathu.\n",
              "3      4  Kube inja nelikati betingevakala kutsi titsini..."
            ]
          },
          "execution_count": null,
          "metadata": {},
          "output_type": "execute_result"
        }
      ],
      "source": [
        "df_test.head(4)"
      ]
    },
    {
      "cell_type": "markdown",
      "metadata": {
        "id": "m2SNmAnNISxL"
      },
      "source": [
        "3. EDA"
      ]
    },
    {
      "cell_type": "code",
      "execution_count": null,
      "metadata": {
        "colab": {
          "background_save": true
        },
        "id": "RL17bH8WIUhJ",
        "outputId": "6d060088-a9ed-48e1-d701-fc58bf5a6d9c"
      },
      "outputs": [
        {
          "name": "stdout",
          "output_type": "stream",
          "text": [
            "<class 'pandas.core.frame.DataFrame'>\n",
            "RangeIndex: 33000 entries, 0 to 32999\n",
            "Data columns (total 2 columns):\n",
            " #   Column   Non-Null Count  Dtype \n",
            "---  ------   --------------  ----- \n",
            " 0   lang_id  33000 non-null  object\n",
            " 1   text     33000 non-null  object\n",
            "dtypes: object(2)\n",
            "memory usage: 515.8+ KB\n"
          ]
        }
      ],
      "source": [
        "#info into language id\n",
        "df_train.info()\n"
      ]
    },
    {
      "cell_type": "code",
      "execution_count": null,
      "metadata": {
        "colab": {
          "background_save": true
        },
        "id": "jAQ4yg7vIzlw",
        "outputId": "a5f53305-16bf-4350-d14a-06775bbd8980"
      },
      "outputs": [
        {
          "name": "stdout",
          "output_type": "stream",
          "text": [
            "shape of train dataset (33000, 2)\n"
          ]
        },
        {
          "data": {
            "text/plain": [
              "xho    3000\n",
              "eng    3000\n",
              "nso    3000\n",
              "ven    3000\n",
              "tsn    3000\n",
              "nbl    3000\n",
              "zul    3000\n",
              "ssw    3000\n",
              "tso    3000\n",
              "sot    3000\n",
              "afr    3000\n",
              "Name: lang_id, dtype: int64"
            ]
          },
          "execution_count": null,
          "metadata": {},
          "output_type": "execute_result"
        }
      ],
      "source": [
        "print('shape of train dataset', df_train.shape)\n",
        "df_train.lang_id.value_counts()\n"
      ]
    },
    {
      "cell_type": "code",
      "execution_count": null,
      "metadata": {
        "colab": {
          "background_save": true
        },
        "id": "E5vVr6p1JZj7",
        "outputId": "2cae4edd-f86e-43a3-ac7a-8cd81fa26d38"
      },
      "outputs": [
        {
          "name": "stderr",
          "output_type": "stream",
          "text": [
            "/usr/local/lib/python3.7/dist-packages/seaborn/_decorators.py:43: FutureWarning: Pass the following variable as a keyword arg: x. From version 0.12, the only valid positional argument will be `data`, and passing other arguments without an explicit keyword will result in an error or misinterpretation.\n",
            "  FutureWarning\n"
          ]
        },
        {
          "data": {
            "image/png": "[encoded data removed]",
            "text/plain": [
              "<Figure size 432x288 with 1 Axes>"
            ]
          },
          "metadata": {},
          "output_type": "display_data"
        }
      ],
      "source": [
        "#plotting sentiment graph\n",
        "\n",
        "sns.countplot(df_train.lang_id,)\n",
        "plt.xlabel('Language ID')\n",
        "plt.ylabel('Number of Text')\n",
        "plt.show()"
      ]
    },
    {
      "cell_type": "markdown",
      "metadata": {
        "id": "XghU_6KVJ00J"
      },
      "source": [
        "Data Preprocessing"
      ]
    },
    {
      "cell_type": "code",
      "execution_count": null,
      "metadata": {
        "colab": {
          "background_save": true
        },
        "id": "ZdAPZtRKPAoh",
        "outputId": "44088f26-9f46-4fdf-e193-1b0f10efd2f5"
      },
      "outputs": [
        {
          "name": "stdout",
          "output_type": "stream",
          "text": [
            "[nltk_data] Downloading package stopwords to /root/nltk_data...\n",
            "[nltk_data]   Package stopwords is already up-to-date!\n"
          ]
        },
        {
          "data": {
            "text/plain": [
              "True"
            ]
          },
          "execution_count": null,
          "metadata": {},
          "output_type": "execute_result"
        }
      ],
      "source": [
        "import nltk\n",
        "nltk.download('stopwords')"
      ]
    },
    {
      "cell_type": "code",
      "execution_count": null,
      "metadata": {
        "colab": {
          "background_save": true
        },
        "id": "-Gn1oqC3J0dr"
      },
      "outputs": [],
      "source": [
        "import nltk\n",
        "stopword=nltk.corpus.stopwords.words('english')\n",
        "stopword.remove('not')\n",
        "def processed_text(text):\n",
        "  #Removing special characters\n",
        "  text=re.sub(r'@[\\w]*','',text)\n",
        "  #Removing urls from text\n",
        "  text=re.sub(r'http/S+','',text)\n",
        "  #Removing Punctuations, Numbers, and Special Characters\n",
        "  text=re.sub(r'[^A-Za-z#]',' ',text)   \n",
        "  #Removing stopword\n",
        "  \n",
        "  #text=\" \".join(i.lower() for i in text.split() if i.lower() not in stopword) \n",
        "   \n",
        "  text = text.lower()\n",
        "    # will split and join the words\n",
        "  text=' '.join(text.split())\n",
        "  return text\n",
        "   \n",
        "    \n",
        "    \n",
        "    "
      ]
    },
    {
      "cell_type": "code",
      "execution_count": 26,
      "metadata": {
        "id": "IRcSXy5rPIll"
      },
      "outputs": [],
      "source": [
        "# Application of the function to clean the tweets\n",
        "df_train['text'] = df_train['text'].apply(processed_text)\n",
        "df_test['text'] = df_test['text'].apply(processed_text)"
      ]
    },
    {
      "cell_type": "code",
      "execution_count": null,
      "metadata": {
        "colab": {
          "background_save": true
        },
        "id": "7bM80A8nPbEU",
        "outputId": "c769809f-8d09-4158-c602-03c27f1095d6"
      },
      "outputs": [
        {
          "name": "stderr",
          "output_type": "stream",
          "text": [
            "/usr/local/lib/python3.7/dist-packages/ipykernel_launcher.py:2: FutureWarning: The default value of regex will change from True to False in a future version.\n",
            "  \n",
            "/usr/local/lib/python3.7/dist-packages/ipykernel_launcher.py:3: FutureWarning: The default value of regex will change from True to False in a future version.\n",
            "  This is separate from the ipykernel package so we can avoid doing imports until\n"
          ]
        }
      ],
      "source": [
        "# Replace '.txt' with 'text file'\n",
        "#df_train[\"text\"] = df_train[\"text\"].str.replace(\".txt\", \" text file\")\n",
        "#df_test[\"text\"] = df_test[\"text\"].str.replace(\".txt\", \" text file\")"
      ]
    },
    {
      "cell_type": "markdown",
      "metadata": {
        "id": "zeDVlkV4P7ZZ"
      },
      "source": [
        "Feature Engineering"
      ]
    },
    {
      "cell_type": "markdown",
      "metadata": {
        "id": "xV7FrKvsP0li"
      },
      "source": [
        "Data Splitting"
      ]
    },
    {
      "cell_type": "code",
      "execution_count": 27,
      "metadata": {
        "id": "RcS6yFTZQAms"
      },
      "outputs": [],
      "source": [
        "X = df_train['text']\n",
        "y = df_train['lang_id']"
      ]
    },
    {
      "cell_type": "markdown",
      "metadata": {
        "id": "Ueufq82RQV-9"
      },
      "source": [
        "Splitting of Training and Validation Sets"
      ]
    },
    {
      "cell_type": "code",
      "execution_count": 36,
      "metadata": {
        "id": "pPN37h-1QVKR"
      },
      "outputs": [],
      "source": [
        "X_train, X_val, y_train, y_val = train_test_split(X, y, test_size=0.25, random_state=45)"
      ]
    },
    {
      "cell_type": "markdown",
      "metadata": {
        "id": "YStgFxlKQljL"
      },
      "source": [
        "Model Building"
      ]
    },
    {
      "cell_type": "code",
      "execution_count": 37,
      "metadata": {
        "id": "oP8eGLL7QqlN"
      },
      "outputs": [],
      "source": [
        "classifiers = [LinearSVC(random_state=42),\n",
        "               \n",
        "               LogisticRegression(random_state=42,\n",
        "                                  multi_class='ovr',\n",
        "                                  n_jobs=1,\n",
        "                                  C=1e5,\n",
        "                                  max_iter=4000),\n",
        "               KNeighborsClassifier(n_neighbors=5),\n",
        "               MultinomialNB(),\n",
        "               ComplementNB(),\n",
        "               SGDClassifier(loss='hinge',\n",
        "                             penalty='l2',\n",
        "                             alpha=1e-3,\n",
        "                             random_state=42,\n",
        "                             max_iter=5,\n",
        "                             tol=None),\n",
        "               \n",
        "                                ]"
      ]
    },
    {
      "cell_type": "markdown",
      "metadata": {
        "id": "k-dp4HIStEIp"
      },
      "source": [
        ""
      ]
    },
    {
      "cell_type": "code",
      "execution_count": 38,
      "metadata": {
        "id": "vGWeA3-TtDFm"
      },
      "outputs": [],
      "source": [
        "def models_building(classifiers, X_train, y_train, X_val, y_val):\n",
        "    \n",
        "    models_summary = {}\n",
        "\n",
        "    # Pipeline to balance the classses and then to build the model\n",
        "    for clf in classifiers:\n",
        "        clf_text = Pipeline([('tfidf', TfidfVectorizer(min_df=1,\n",
        "                                                       max_df=0.9,\n",
        "                                                       ngram_range=(1, 2))),\n",
        "                             ('clf', clf)])\n",
        "\n",
        "        # Logging the Execution Time for each model\n",
        "        start_time = time.time()\n",
        "        clf_text.fit(X_train, y_train)\n",
        "        predictions = clf_text.predict(X_val)\n",
        "        run_time = time.time()-start_time\n",
        "\n",
        "        # Output for each model\n",
        "        models_summary[clf.__class__.__name__] = {\n",
        "            'F1-Macro': metrics.f1_score(y_val,\n",
        "                                         predictions,\n",
        "                                         average='macro'),\n",
        "            'F1-Accuracy': metrics.f1_score(y_val, predictions,\n",
        "                                            average='micro'),\n",
        "            'F1-Weighted': metrics.f1_score(y_val,\n",
        "                                            predictions,\n",
        "                                            average='weighted'),\n",
        "            'Execution Time': run_time}\n",
        "\n",
        "    return pd.DataFrame.from_dict(models_summary, orient='index')"
      ]
    },
    {
      "cell_type": "markdown",
      "metadata": {
        "id": "3L_xlKnRtd1F"
      },
      "source": [
        "Run Classifiers"
      ]
    },
    {
      "cell_type": "code",
      "execution_count": 39,
      "metadata": {
        "colab": {
          "base_uri": "https://localhost:8080/",
          "height": 237
        },
        "id": "ulVQReQMthM4",
        "outputId": "86a9ef29-4790-43ae-bc03-282872b2ac2e"
      },
      "outputs": [
        {
          "output_type": "execute_result",
          "data": {
            "text/plain": [
              "                      F1-Macro  F1-Accuracy  F1-Weighted  Execution Time\n",
              "MultinomialNB         0.997151     0.997112     0.997107        5.696395\n",
              "ComplementNB          0.997137     0.997112     0.997109        7.221675\n",
              "LogisticRegression    0.995280     0.995187     0.995181      133.874395\n",
              "LinearSVC             0.995145     0.995050     0.995042       10.305563\n",
              "SGDClassifier         0.986144     0.986111     0.986041        6.778155\n",
              "KNeighborsClassifier  0.962853     0.963009     0.962615        8.972767"
            ],
            "text/html": [
              "\n",
              "  <div id=\"df-c17236dc-7460-4ce5-80e0-26bc66e8fc15\">\n",
              "    <div class=\"colab-df-container\">\n",
              "      <div>\n",
              "<style scoped>\n",
              "    .dataframe tbody tr th:only-of-type {\n",
              "        vertical-align: middle;\n",
              "    }\n",
              "\n",
              "    .dataframe tbody tr th {\n",
              "        vertical-align: top;\n",
              "    }\n",
              "\n",
              "    .dataframe thead th {\n",
              "        text-align: right;\n",
              "    }\n",
              "</style>\n",
              "<table border=\"1\" class=\"dataframe\">\n",
              "  <thead>\n",
              "    <tr style=\"text-align: right;\">\n",
              "      <th></th>\n",
              "      <th>F1-Macro</th>\n",
              "      <th>F1-Accuracy</th>\n",
              "      <th>F1-Weighted</th>\n",
              "      <th>Execution Time</th>\n",
              "    </tr>\n",
              "  </thead>\n",
              "  <tbody>\n",
              "    <tr>\n",
              "      <th>MultinomialNB</th>\n",
              "      <td>0.997151</td>\n",
              "      <td>0.997112</td>\n",
              "      <td>0.997107</td>\n",
              "      <td>5.696395</td>\n",
              "    </tr>\n",
              "    <tr>\n",
              "      <th>ComplementNB</th>\n",
              "      <td>0.997137</td>\n",
              "      <td>0.997112</td>\n",
              "      <td>0.997109</td>\n",
              "      <td>7.221675</td>\n",
              "    </tr>\n",
              "    <tr>\n",
              "      <th>LogisticRegression</th>\n",
              "      <td>0.995280</td>\n",
              "      <td>0.995187</td>\n",
              "      <td>0.995181</td>\n",
              "      <td>133.874395</td>\n",
              "    </tr>\n",
              "    <tr>\n",
              "      <th>LinearSVC</th>\n",
              "      <td>0.995145</td>\n",
              "      <td>0.995050</td>\n",
              "      <td>0.995042</td>\n",
              "      <td>10.305563</td>\n",
              "    </tr>\n",
              "    <tr>\n",
              "      <th>SGDClassifier</th>\n",
              "      <td>0.986144</td>\n",
              "      <td>0.986111</td>\n",
              "      <td>0.986041</td>\n",
              "      <td>6.778155</td>\n",
              "    </tr>\n",
              "    <tr>\n",
              "      <th>KNeighborsClassifier</th>\n",
              "      <td>0.962853</td>\n",
              "      <td>0.963009</td>\n",
              "      <td>0.962615</td>\n",
              "      <td>8.972767</td>\n",
              "    </tr>\n",
              "  </tbody>\n",
              "</table>\n",
              "</div>\n",
              "      <button class=\"colab-df-convert\" onclick=\"convertToInteractive('df-c17236dc-7460-4ce5-80e0-26bc66e8fc15')\"\n",
              "              title=\"Convert this dataframe to an interactive table.\"\n",
              "              style=\"display:none;\">\n",
              "        \n",
              "  <svg xmlns=\"http://www.w3.org/2000/svg\" height=\"24px\"viewBox=\"0 0 24 24\"\n",
              "       width=\"24px\">\n",
              "    <path d=\"M0 0h24v24H0V0z\" fill=\"none\"/>\n",
              "    <path d=\"M18.56 5.44l.94 2.06.94-2.06 2.06-.94-2.06-.94-.94-2.06-.94 2.06-2.06.94zm-11 1L8.5 8.5l.94-2.06 2.06-.94-2.06-.94L8.5 2.5l-.94 2.06-2.06.94zm10 10l.94 2.06.94-2.06 2.06-.94-2.06-.94-.94-2.06-.94 2.06-2.06.94z\"/><path d=\"M17.41 7.96l-1.37-1.37c-.4-.4-.92-.59-1.43-.59-.52 0-1.04.2-1.43.59L10.3 9.45l-7.72 7.72c-.78.78-.78 2.05 0 2.83L4 21.41c.39.39.9.59 1.41.59.51 0 1.02-.2 1.41-.59l7.78-7.78 2.81-2.81c.8-.78.8-2.07 0-2.86zM5.41 20L4 18.59l7.72-7.72 1.47 1.35L5.41 20z\"/>\n",
              "  </svg>\n",
              "      </button>\n",
              "      \n",
              "  <style>\n",
              "    .colab-df-container {\n",
              "      display:flex;\n",
              "      flex-wrap:wrap;\n",
              "      gap: 12px;\n",
              "    }\n",
              "\n",
              "    .colab-df-convert {\n",
              "      background-color: #E8F0FE;\n",
              "      border: none;\n",
              "      border-radius: 50%;\n",
              "      cursor: pointer;\n",
              "      display: none;\n",
              "      fill: #1967D2;\n",
              "      height: 32px;\n",
              "      padding: 0 0 0 0;\n",
              "      width: 32px;\n",
              "    }\n",
              "\n",
              "    .colab-df-convert:hover {\n",
              "      background-color: #E2EBFA;\n",
              "      box-shadow: 0px 1px 2px rgba(60, 64, 67, 0.3), 0px 1px 3px 1px rgba(60, 64, 67, 0.15);\n",
              "      fill: #174EA6;\n",
              "    }\n",
              "\n",
              "    [theme=dark] .colab-df-convert {\n",
              "      background-color: #3B4455;\n",
              "      fill: #D2E3FC;\n",
              "    }\n",
              "\n",
              "    [theme=dark] .colab-df-convert:hover {\n",
              "      background-color: #434B5C;\n",
              "      box-shadow: 0px 1px 3px 1px rgba(0, 0, 0, 0.15);\n",
              "      filter: drop-shadow(0px 1px 2px rgba(0, 0, 0, 0.3));\n",
              "      fill: #FFFFFF;\n",
              "    }\n",
              "  </style>\n",
              "\n",
              "      <script>\n",
              "        const buttonEl =\n",
              "          document.querySelector('#df-c17236dc-7460-4ce5-80e0-26bc66e8fc15 button.colab-df-convert');\n",
              "        buttonEl.style.display =\n",
              "          google.colab.kernel.accessAllowed ? 'block' : 'none';\n",
              "\n",
              "        async function convertToInteractive(key) {\n",
              "          const element = document.querySelector('#df-c17236dc-7460-4ce5-80e0-26bc66e8fc15');\n",
              "          const dataTable =\n",
              "            await google.colab.kernel.invokeFunction('convertToInteractive',\n",
              "                                                     [key], {});\n",
              "          if (!dataTable) return;\n",
              "\n",
              "          const docLinkHtml = 'Like what you see? Visit the ' +\n",
              "            '<a target=\"_blank\" href=https://colab.research.google.com/notebooks/data_table.ipynb>data table notebook</a>'\n",
              "            + ' to learn more about interactive tables.';\n",
              "          element.innerHTML = '';\n",
              "          dataTable['output_type'] = 'display_data';\n",
              "          await google.colab.output.renderOutput(dataTable, element);\n",
              "          const docLink = document.createElement('div');\n",
              "          docLink.innerHTML = docLinkHtml;\n",
              "          element.appendChild(docLink);\n",
              "        }\n",
              "      </script>\n",
              "    </div>\n",
              "  </div>\n",
              "  "
            ]
          },
          "metadata": {},
          "execution_count": 39
        }
      ],
      "source": [
        "classifiers_df = models_building(classifiers, X_train, y_train, X_val, y_val)\n",
        "ordered_df = classifiers_df.sort_values('F1-Macro', ascending=False)\n",
        "ordered_df"
      ]
    },
    {
      "cell_type": "markdown",
      "source": [
        "Hyperparameter Tuning on Most Performing Models"
      ],
      "metadata": {
        "id": "12SqGwjADtPG"
      }
    },
    {
      "cell_type": "code",
      "execution_count": 40,
      "metadata": {
        "id": "IKH0ao2v-m3S"
      },
      "outputs": [],
      "source": [
        "# Refining the train-test split for validation\n",
        "X_train, X_val, y_train, y_val = train_test_split(X, y, test_size=0.01)"
      ]
    },
    {
      "cell_type": "markdown",
      "source": [
        "Multinomial Naive Bayes (MNB)"
      ],
      "metadata": {
        "id": "zI2bLZ-gD1ld"
      }
    },
    {
      "cell_type": "code",
      "source": [
        "# Creating a pipeline for the gridsearch\n",
        "param_grid = {'alpha': [0.1, 1, 5, 10]}  # setting parameter grid\n",
        "\n",
        "tuned_mnb = Pipeline([('tfidf', TfidfVectorizer(min_df=2,\n",
        "                                                max_df=0.9,\n",
        "                                                ngram_range=(1, 2))),\n",
        "                      ('mnb', GridSearchCV(MultinomialNB(),\n",
        "                                           param_grid=param_grid,\n",
        "                                           cv=5,\n",
        "                                           n_jobs=-1,\n",
        "                                           scoring='f1_weighted'))\n",
        "                      ])\n",
        "# Fitting the model\n",
        "tuned_mnb.fit(X_train, y_train)  \n",
        "\n",
        "# predicting the fit on validation set\n",
        "\n",
        "y_pred_mnb = tuned_mnb.predict(X_val)  \n",
        "\n",
        "print(classification_report(y_val, y_pred_mnb))"
      ],
      "metadata": {
        "colab": {
          "base_uri": "https://localhost:8080/"
        },
        "id": "wjKevsU4D6rq",
        "outputId": "1bdc99d8-49ce-4f95-aaaf-d939abdcee85"
      },
      "execution_count": 41,
      "outputs": [
        {
          "output_type": "stream",
          "name": "stdout",
          "text": [
            "              precision    recall  f1-score   support\n",
            "\n",
            "         afr       1.00      1.00      1.00        28\n",
            "         eng       1.00      1.00      1.00        28\n",
            "         nbl       1.00      0.96      0.98        28\n",
            "         nso       1.00      1.00      1.00        22\n",
            "         sot       1.00      1.00      1.00        29\n",
            "         ssw       1.00      1.00      1.00        35\n",
            "         tsn       1.00      1.00      1.00        24\n",
            "         tso       1.00      1.00      1.00        23\n",
            "         ven       1.00      1.00      1.00        25\n",
            "         xho       1.00      1.00      1.00        27\n",
            "         zul       0.96      1.00      0.98        22\n",
            "\n",
            "    accuracy                           1.00       291\n",
            "   macro avg       1.00      1.00      1.00       291\n",
            "weighted avg       1.00      1.00      1.00       291\n",
            "\n"
          ]
        }
      ]
    },
    {
      "cell_type": "markdown",
      "source": [
        "Creating File for Submission"
      ],
      "metadata": {
        "id": "_P6EE9hxEB_g"
      }
    },
    {
      "cell_type": "code",
      "source": [
        "submission_df = pd.DataFrame(df_test['index'])\n",
        "submission_df['lang_id'] = tuned_mnb.predict(df_test['text'])\n",
        "submission_df.to_csv('sub_SA_Lang_Predict2.csv', index=False)"
      ],
      "metadata": {
        "id": "FcWyrtNkEFFE"
      },
      "execution_count": 42,
      "outputs": []
    },
    {
      "cell_type": "markdown",
      "source": [
        "Reference\n",
        "\n",
        "Explore Data Science Academy\n",
        "\n",
        "kolawole-aina\n",
        "\n",
        "Kemal Toprak Uçar: https://towardsdatascience.com/an-end-to-end-web-service-implementation-for-text-classification-using-word2vec-and-lgbm-3d605c77fd6e\n",
        "\n",
        "https://www.kaggle.com/code/davidcairuz/feature-engineering-lightgbm\n",
        "\n"
      ],
      "metadata": {
        "id": "QuPyUPXHx3ev"
      }
    }
  ],
  "metadata": {
    "colab": {
      "collapsed_sections": [],
      "name": "SA Lang Predict2.ipynb",
      "provenance": []
    },
    "kernelspec": {
      "display_name": "Python 3",
      "name": "python3"
    },
    "language_info": {
      "name": "python"
    }
  },
  "nbformat": 4,
  "nbformat_minor": 0
}